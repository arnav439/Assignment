{
 "cells": [
  {
   "cell_type": "code",
   "execution_count": 2,
   "id": "43aa8cb5-710f-4069-8f18-c4a8641b64ef",
   "metadata": {},
   "outputs": [],
   "source": [
    "import logging"
   ]
  },
  {
   "cell_type": "code",
   "execution_count": 2,
   "id": "8034530c-0c8f-4e90-bb84-86ee9444c5ac",
   "metadata": {},
   "outputs": [],
   "source": [
    "logging.basicConfig(filename=\"test.log\",level=logging.INFO)"
   ]
  },
  {
   "cell_type": "code",
   "execution_count": 3,
   "id": "e4167737-373c-4500-8e63-74e8df3d9d3c",
   "metadata": {},
   "outputs": [],
   "source": [
    "logging.error(\"this is an error\")"
   ]
  },
  {
   "cell_type": "code",
   "execution_count": 4,
   "id": "8d3f316b-b4aa-43df-841f-3baf72080743",
   "metadata": {},
   "outputs": [],
   "source": [
    "logging.info(\"this is my normal information for my software run\")"
   ]
  },
  {
   "cell_type": "code",
   "execution_count": 5,
   "id": "691daa55-28bf-4151-b74e-d001d2ac1f02",
   "metadata": {},
   "outputs": [],
   "source": [
    "logging.warning(\"this is my warning\")"
   ]
  },
  {
   "cell_type": "code",
   "execution_count": 6,
   "id": "9e1d111e-4af5-4e5c-be2a-2de78ea77fa8",
   "metadata": {},
   "outputs": [],
   "source": [
    "logging.debug(\"this is my message for debugging\")"
   ]
  },
  {
   "cell_type": "code",
   "execution_count": 7,
   "id": "53318d56-e672-4c3a-b306-49f908019c6b",
   "metadata": {},
   "outputs": [],
   "source": [
    "logging.critical(\"this is critical msg\")"
   ]
  },
  {
   "cell_type": "code",
   "execution_count": 8,
   "id": "6f1e48f3-1996-4cd9-b4cf-758f18a3681f",
   "metadata": {},
   "outputs": [],
   "source": [
    "logging.shutdown()"
   ]
  },
  {
   "cell_type": "markdown",
   "id": "00a1e572-0aef-42c9-bb92-002408b9c939",
   "metadata": {},
   "source": [
    "1. DEBUG >>>  LOWEST LEVEL> Debugging messages and variables\n",
    "2. INFO>>> the things are working as expected\n",
    "3. WARNING>> potential issues\n",
    "4. ERROR>>serious problem\n",
    "5. CRITICAL>> terminaion of program\n"
   ]
  },
  {
   "cell_type": "code",
   "execution_count": 3,
   "id": "769bf7e9-0ba7-45ee-a172-30116b7023f2",
   "metadata": {},
   "outputs": [],
   "source": [
    "logging.basicConfig(filename=\"test_new.log\", level=logging.DEBUG , format='%(asctime)s%')"
   ]
  },
  {
   "cell_type": "code",
   "execution_count": 4,
   "id": "5c15eb89-b6b5-4707-8c76-df7ab1b382ae",
   "metadata": {},
   "outputs": [
    {
     "ename": "TypeError",
     "evalue": "'int' object is not callable",
     "output_type": "error",
     "traceback": [
      "\u001b[0;31m---------------------------------------------------------------------------\u001b[0m",
      "\u001b[0;31mTypeError\u001b[0m                                 Traceback (most recent call last)",
      "Cell \u001b[0;32mIn[4], line 1\u001b[0m\n\u001b[0;32m----> 1\u001b[0m \u001b[43mlogging\u001b[49m\u001b[38;5;241;43m.\u001b[39;49m\u001b[43mDEBUG\u001b[49m\u001b[43m(\u001b[49m\u001b[38;5;124;43m\"\u001b[39;49m\u001b[38;5;124;43mthis message is our debug\u001b[39;49m\u001b[38;5;124;43m\"\u001b[39;49m\u001b[43m)\u001b[49m\n",
      "\u001b[0;31mTypeError\u001b[0m: 'int' object is not callable"
     ]
    }
   ],
   "source": [
    "logging.(\"this message is our debug\")"
   ]
  },
  {
   "cell_type": "code",
   "execution_count": null,
   "id": "56c76189-d51a-4e72-a5c7-5d315545df6c",
   "metadata": {},
   "outputs": [],
   "source": []
  }
 ],
 "metadata": {
  "kernelspec": {
   "display_name": "Python 3 (ipykernel)",
   "language": "python",
   "name": "python3"
  },
  "language_info": {
   "codemirror_mode": {
    "name": "ipython",
    "version": 3
   },
   "file_extension": ".py",
   "mimetype": "text/x-python",
   "name": "python",
   "nbconvert_exporter": "python",
   "pygments_lexer": "ipython3",
   "version": "3.10.8"
  }
 },
 "nbformat": 4,
 "nbformat_minor": 5
}
