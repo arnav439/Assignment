{
 "cells": [
  {
   "cell_type": "code",
   "execution_count": 1,
   "id": "b582d7fb-dd5a-4658-afc8-b57f1f867771",
   "metadata": {},
   "outputs": [
    {
     "name": "stdout",
     "output_type": "stream",
     "text": [
      "  s_name  s_class  s_marks\n",
      "a    ram       11       20\n",
      "b    sam       12       30\n",
      "c  vijay       11       34\n"
     ]
    }
   ],
   "source": [
    "import pandas as pd\n",
    "dict={\"s_name\":[\"ram\",\"sam\",\"vijay\"],\n",
    "      \"s_class\":[11,12,11],\n",
    "      \"s_marks\":[20,30,34]}\n",
    "df=pd.DataFrame(dict,index=[\"a\",\"b\",\"c\"])\n",
    "print(df)\n"
   ]
  },
  {
   "cell_type": "code",
   "execution_count": 11,
   "id": "409b49e7-9b0e-45aa-adda-b2fff7ad334e",
   "metadata": {},
   "outputs": [
    {
     "name": "stdout",
     "output_type": "stream",
     "text": [
      "    name  class  marks\n",
      "1    ram     11     22\n",
      "2    sam     12     23\n",
      "3  vicky     11     33\n"
     ]
    }
   ],
   "source": [
    "import pandas as pd \n",
    "dict={\"name\":{\"r1\":\"ram\",\"r2\":\"sam\",\"r3\":\"vicky\"},\n",
    "      \"class\":{\"r1\":11,\"r2\":12,\"r3\":11},\n",
    "      \"marks\":{\"r1\":22,\"r2\":23,\"r3\":33}}\n",
    "df=pd.DataFrame(dict)\n",
    "df.index=[1,2,3]\n",
    "print(df)\n"
   ]
  },
  {
   "cell_type": "code",
   "execution_count": 14,
   "id": "f6399568-6b12-4641-86e6-ffada194c064",
   "metadata": {},
   "outputs": [
    {
     "name": "stdout",
     "output_type": "stream",
     "text": [
      "  name  age  marks\n",
      "0  ram   11     22\n",
      "1  sam   41     42\n",
      "2  dam   21     22\n"
     ]
    }
   ],
   "source": [
    "import pandas as pd \n",
    "#list of dict\n",
    "d1={\"name\":\"ram\",\"age\":11,\"marks\":22}\n",
    "d2={\"name\":\"sam\",\"age\":41,\"marks\":42}\n",
    "d3={\"name\":\"dam\",\"age\":21,\"marks\":22}\n",
    "list=[d1,d2,d3]\n",
    "df=pd.DataFrame(list)\n",
    "print(df)"
   ]
  },
  {
   "cell_type": "code",
   "execution_count": 21,
   "id": "26ec9c0a-c4ee-4fe3-b973-19b188b09ef4",
   "metadata": {},
   "outputs": [
    {
     "ename": "SyntaxError",
     "evalue": "invalid syntax. Maybe you meant '==' or ':=' instead of '='? (1896922904.py, line 9)",
     "output_type": "error",
     "traceback": [
      "\u001b[0;36m  Cell \u001b[0;32mIn[21], line 9\u001b[0;36m\u001b[0m\n\u001b[0;31m    df.rename[\"elements\",axis=1]\u001b[0m\n\u001b[0m                         ^\u001b[0m\n\u001b[0;31mSyntaxError\u001b[0m\u001b[0;31m:\u001b[0m invalid syntax. Maybe you meant '==' or ':=' instead of '='?\n"
     ]
    }
   ],
   "source": [
    "import pandas as pd \n",
    "#dict of series\n",
    "a=[\"x\",\"y\",\"z\"]\n",
    "b=[22,33,44]\n",
    "s1=pd.Series(a)\n",
    "s2=pd.Series(b)\n",
    "dict={\"name\":s1,\"age\":s2}\n",
    "df=pd.DataFrame(dict)\n",
    "df.rename[\"elements\",axis=1]\n",
    "print(df)"
   ]
  },
  {
   "cell_type": "code",
   "execution_count": null,
   "id": "d1bcac2c-51bf-4a7f-874f-d9cab5912926",
   "metadata": {},
   "outputs": [],
   "source": []
  },
  {
   "cell_type": "code",
   "execution_count": null,
   "id": "1e23e444-e1b7-48c4-b1e9-38bf25929285",
   "metadata": {},
   "outputs": [],
   "source": []
  }
 ],
 "metadata": {
  "kernelspec": {
   "display_name": "Python 3 (ipykernel)",
   "language": "python",
   "name": "python3"
  },
  "language_info": {
   "codemirror_mode": {
    "name": "ipython",
    "version": 3
   },
   "file_extension": ".py",
   "mimetype": "text/x-python",
   "name": "python",
   "nbconvert_exporter": "python",
   "pygments_lexer": "ipython3",
   "version": "3.10.8"
  }
 },
 "nbformat": 4,
 "nbformat_minor": 5
}
